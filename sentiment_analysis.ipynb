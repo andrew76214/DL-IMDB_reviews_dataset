{
 "cells": [
  {
   "cell_type": "markdown",
   "metadata": {},
   "source": [
    "# Sentiment Analysis on IMDB Reviews using LSTM and Keras\n",
    "created by Hans Michael\n",
    "<hr>\n",
    "\n",
    "### Steps\n",
    "<ol type=\"1\">\n",
    "    <li>Load the dataset (50K IMDB Movie Review)</li>\n",
    "    <li>Clean Dataset</li>\n",
    "    <li>Encode Sentiments</li>\n",
    "    <li>Split Dataset</li>\n",
    "    <li>Tokenize and Pad/Truncate Reviews</li>\n",
    "    <li>Build Architecture/Model</li>\n",
    "    <li>Train and Test</li>\n",
    "</ol>\n",
    "\n",
    "<hr>\n",
    "<i>Import all the libraries needed</i>"
   ]
  },
  {
   "cell_type": "code",
   "execution_count": 3,
   "metadata": {},
   "outputs": [],
   "source": [
    "import pandas as pd    # to load dataset\n",
    "import numpy as np     # for mathematic equation\n",
    "from nltk.corpus import stopwords   # to get collection of stopwords\n",
    "from sklearn.model_selection import train_test_split       # for splitting dataset\n",
    "from tensorflow.keras.preprocessing.text import Tokenizer  # to encode text to int\n",
    "from tensorflow.keras.preprocessing.sequence import pad_sequences   # to do padding or truncating\n",
    "from tensorflow.keras.models import Sequential, Model     # the model\n",
    "from tensorflow.keras.layers import Embedding, LSTM, SimpleRNN, GRU, Dense, Dropout, Attention # layers of the architecture\n",
    "from tensorflow.keras.callbacks import ModelCheckpoint   # save model\n",
    "from tensorflow.keras import Input\n",
    "import re"
   ]
  },
  {
   "cell_type": "markdown",
   "metadata": {},
   "source": [
    "<hr>\n",
    "<i>Preview dataset</i>"
   ]
  },
  {
   "cell_type": "code",
   "execution_count": 4,
   "metadata": {},
   "outputs": [
    {
     "name": "stdout",
     "output_type": "stream",
     "text": [
      "                                                  review sentiment\n",
      "0      One of the other reviewers has mentioned that ...  positive\n",
      "1      A wonderful little production. <br /><br />The...  positive\n",
      "2      I thought this was a wonderful way to spend ti...  positive\n",
      "3      Basically there's a family where a little boy ...  negative\n",
      "4      Petter Mattei's \"Love in the Time of Money\" is...  positive\n",
      "...                                                  ...       ...\n",
      "49995  I thought this movie did a down right good job...  positive\n",
      "49996  Bad plot, bad dialogue, bad acting, idiotic di...  negative\n",
      "49997  I am a Catholic taught in parochial elementary...  negative\n",
      "49998  I'm going to have to disagree with the previou...  negative\n",
      "49999  No one expects the Star Trek movies to be high...  negative\n",
      "\n",
      "[50000 rows x 2 columns]\n"
     ]
    }
   ],
   "source": [
    "data = pd.read_csv('IMDB Dataset.csv')\n",
    "\n",
    "print(data)"
   ]
  },
  {
   "cell_type": "markdown",
   "metadata": {},
   "source": [
    "<hr>\n",
    "<b>Stop Word</b> is a commonly used words in a sentence, usually a search engine is programmed to ignore this words (i.e. \"the\", \"a\", \"an\", \"of\", etc.)\n",
    "\n",
    "<i>Declaring the english stop words</i>"
   ]
  },
  {
   "cell_type": "code",
   "execution_count": 5,
   "metadata": {},
   "outputs": [],
   "source": [
    "english_stops = set(stopwords.words('english'))"
   ]
  },
  {
   "cell_type": "markdown",
   "metadata": {},
   "source": [
    "<hr>\n",
    "\n",
    "### Load and Clean Dataset\n",
    "\n",
    "In the original dataset, the reviews are still dirty. There are still html tags, numbers, uppercase, and punctuations. This will not be good for training, so in <b>load_dataset()</b> function, beside loading the dataset using <b>pandas</b>, I also pre-process the reviews by removing html tags, non alphabet (punctuations and numbers), stop words, and lower case all of the reviews.\n",
    "\n",
    "### Encode Sentiments\n",
    "In the same function, I also encode the sentiments into integers (0 and 1). Where 0 is for negative sentiments and 1 is for positive sentiments."
   ]
  },
  {
   "cell_type": "code",
   "execution_count": 6,
   "metadata": {},
   "outputs": [
    {
     "name": "stdout",
     "output_type": "stream",
     "text": [
      "Reviews\n",
      "0        [one, reviewers, mentioned, watching, oz, epis...\n",
      "1        [a, wonderful, little, production, the, filmin...\n",
      "2        [i, thought, wonderful, way, spend, time, hot,...\n",
      "3        [basically, family, little, boy, jake, thinks,...\n",
      "4        [petter, mattei, love, time, money, visually, ...\n",
      "                               ...                        \n",
      "49995    [i, thought, movie, right, good, job, it, crea...\n",
      "49996    [bad, plot, bad, dialogue, bad, acting, idioti...\n",
      "49997    [i, catholic, taught, parochial, elementary, s...\n",
      "49998    [i, going, disagree, previous, comment, side, ...\n",
      "49999    [no, one, expects, star, trek, movies, high, a...\n",
      "Name: review, Length: 50000, dtype: object \n",
      "\n",
      "Sentiment\n",
      "0        1\n",
      "1        1\n",
      "2        1\n",
      "3        0\n",
      "4        1\n",
      "        ..\n",
      "49995    1\n",
      "49996    0\n",
      "49997    0\n",
      "49998    0\n",
      "49999    0\n",
      "Name: sentiment, Length: 50000, dtype: int64\n"
     ]
    }
   ],
   "source": [
    "def load_dataset():\n",
    "    df = pd.read_csv('IMDB Dataset.csv')\n",
    "    x_data = df['review']       # Reviews/Input\n",
    "    y_data = df['sentiment']    # Sentiment/Output\n",
    "\n",
    "    # PRE-PROCESS REVIEW\n",
    "    x_data = x_data.replace({'<.*?>': ''}, regex = True)          # remove html tag\n",
    "    x_data = x_data.replace({'[^A-Za-z]': ' '}, regex = True)     # remove non alphabet\n",
    "    x_data = x_data.apply(lambda review: [w for w in review.split() if w not in english_stops])  # remove stop words\n",
    "    x_data = x_data.apply(lambda review: [w.lower() for w in review])   # lower case\n",
    "    \n",
    "    # ENCODE SENTIMENT -> 0 & 1\n",
    "    y_data = y_data.replace('positive', 1)\n",
    "    y_data = y_data.replace('negative', 0)\n",
    "\n",
    "    return x_data, y_data\n",
    "\n",
    "x_data, y_data = load_dataset()\n",
    "\n",
    "print('Reviews')\n",
    "print(x_data, '\\n')\n",
    "print('Sentiment')\n",
    "print(y_data)"
   ]
  },
  {
   "cell_type": "markdown",
   "metadata": {},
   "source": [
    "<hr>\n",
    "\n",
    "### Split Dataset\n",
    "In this work, I decided to split the data into 80% of Training and 20% of Testing set using <b>train_test_split</b> method from Scikit-Learn. By using this method, it automatically shuffles the dataset. We need to shuffle the data because in the original dataset, the reviews and sentiments are in order, where they list positive reviews first and then negative reviews. By shuffling the data, it will be distributed equally in the model, so it will be more accurate for predictions."
   ]
  },
  {
   "cell_type": "code",
   "execution_count": 7,
   "metadata": {},
   "outputs": [],
   "source": [
    "x_train, x_test, y_train, y_test = train_test_split(x_data, y_data, test_size = 0.2)"
   ]
  },
  {
   "cell_type": "markdown",
   "metadata": {},
   "source": [
    "<hr>\n",
    "<i>Function for getting the maximum review length, by calculating the mean of all the reviews length (using <b>numpy.mean</b>)</i>"
   ]
  },
  {
   "cell_type": "code",
   "execution_count": 8,
   "metadata": {},
   "outputs": [],
   "source": [
    "def get_max_length():\n",
    "    review_length = []\n",
    "    for review in x_train:\n",
    "        review_length.append(len(review))\n",
    "\n",
    "    return int(np.ceil(np.mean(review_length)))"
   ]
  },
  {
   "cell_type": "markdown",
   "metadata": {},
   "source": [
    "<hr>\n",
    "\n",
    "### Tokenize and Pad/Truncate Reviews\n",
    "A Neural Network only accepts numeric data, so we need to encode the reviews. I use <b>tensorflow.keras.preprocessing.text.Tokenizer</b> to encode the reviews into integers, where each unique word is automatically indexed (using <b>fit_on_texts</b> method) based on <b>x_train</b>. <br>\n",
    "<b>x_train</b> and <b>x_test</b> is converted into integers using <b>texts_to_sequences</b> method.\n",
    "\n",
    "Each reviews has a different length, so we need to add padding (by adding 0) or truncating the words to the same length (in this case, it is the mean of all reviews length) using <b>tensorflow.keras.preprocessing.sequence.pad_sequences</b>.\n",
    "\n",
    "\n",
    "<b>post</b>, pad or truncate the words in the back of a sentence<br>\n",
    "<b>pre</b>, pad or truncate the words in front of a sentence"
   ]
  },
  {
   "cell_type": "code",
   "execution_count": 9,
   "metadata": {},
   "outputs": [
    {
     "name": "stdout",
     "output_type": "stream",
     "text": [
      "Maximum review length:  130\n"
     ]
    }
   ],
   "source": [
    "# ENCODE REVIEW\n",
    "token = Tokenizer(lower=False)    # no need lower, because already lowered the data in load_data()\n",
    "token.fit_on_texts(x_train)\n",
    "x_train = token.texts_to_sequences(x_train)\n",
    "x_test = token.texts_to_sequences(x_test)\n",
    "\n",
    "max_length = get_max_length()\n",
    "\n",
    "x_train = pad_sequences(x_train, maxlen=max_length, padding='post', truncating='post')\n",
    "x_test = pad_sequences(x_test, maxlen=max_length, padding='post', truncating='post')\n",
    "\n",
    "total_words = len(token.word_index) + 1   # add 1 because of 0 padding\n",
    "\n",
    "print('Maximum review length: ', max_length)"
   ]
  },
  {
   "attachments": {},
   "cell_type": "markdown",
   "metadata": {},
   "source": [
    "## Modeling"
   ]
  },
  {
   "cell_type": "code",
   "execution_count": 10,
   "metadata": {},
   "outputs": [],
   "source": [
    "def RNN_model(EMBED_DIM, total_words):\n",
    "\n",
    "    input = Input(max_length)\n",
    "    embedding = Embedding(total_words, EMBED_DIM)(input)\n",
    "    \n",
    "    rnn1 = SimpleRNN(units=20, return_sequences=True)(embedding)\n",
    "    dropout1 = Dropout(0.2)(rnn1)\n",
    "    rnn2 = SimpleRNN(units=10, return_sequences=True)(dropout1)\n",
    "    dropout2 = Dropout(0.5)(rnn2)\n",
    "    rnn3 = SimpleRNN(units=10)(dropout2)\n",
    "    dropout3 = Dropout(0.5)(rnn3)\n",
    "\n",
    "    output = Dense(units=1, activation='sigmoid')(dropout3)\n",
    "\n",
    "    rnn_model = Model(inputs=input, outputs=output)\n",
    "    print(rnn_model.summary())\n",
    "\n",
    "    return rnn_model"
   ]
  },
  {
   "cell_type": "code",
   "execution_count": 11,
   "metadata": {},
   "outputs": [],
   "source": [
    "def LSTM_model(EMBED_DIM, total_words):\n",
    "\n",
    "    input = Input(max_length)\n",
    "    embedding = Embedding(total_words, EMBED_DIM)(input)\n",
    "    \n",
    "    lstm1 = LSTM(units=20, return_sequences=True)(embedding)\n",
    "    dropout1 = Dropout(0.2)(lstm1)\n",
    "    lstm2 = LSTM(units=10, return_sequences=True)(dropout1)\n",
    "    dropout2 = Dropout(0.5)(lstm2)\n",
    "    lstm3 = LSTM(units=10)(dropout2)\n",
    "    dropout3 = Dropout(0.5)(lstm3)\n",
    "\n",
    "    output = Dense(units=1, activation='sigmoid')(dropout3)\n",
    "\n",
    "    lstm_model = Model(inputs=input, outputs=output)\n",
    "    print(lstm_model.summary())\n",
    "\n",
    "    return lstm_model"
   ]
  },
  {
   "cell_type": "code",
   "execution_count": 12,
   "metadata": {},
   "outputs": [],
   "source": [
    "def GRU_model(EMBED_DIM, total_words):\n",
    "\n",
    "    input = Input(max_length)\n",
    "    embedding = Embedding(total_words, EMBED_DIM)(input)\n",
    "    \n",
    "    gru1 = GRU(units=20, return_sequences=True)(embedding)\n",
    "    dropout1 = Dropout(0.2)(gru1)\n",
    "    gru2 = GRU(units=10, return_sequences=True)(dropout1)\n",
    "    dropout2 = Dropout(0.5)(gru2)\n",
    "    gru3 = GRU(units=10)(dropout2)\n",
    "    dropout3 = Dropout(0.5)(gru3)\n",
    "\n",
    "    output = Dense(units=1, activation='sigmoid')(dropout3)\n",
    "\n",
    "    gru_model = Model(inputs=input, outputs=output)\n",
    "    print(gru_model.summary())\n",
    "\n",
    "    return gru_model"
   ]
  },
  {
   "cell_type": "code",
   "execution_count": null,
   "metadata": {},
   "outputs": [],
   "source": [
    "def GRU_attention_model(EMBED_DIM, total_words):\n",
    "\n",
    "    input = Input(max_length)\n",
    "    embedding = Embedding(total_words, EMBED_DIM)(input)\n",
    "    \n",
    "    gru1 = GRU(units=20, return_sequences=True)(embedding)\n",
    "    dropout1 = Dropout(0.2)(gru1)\n",
    "    gru2 = GRU(units=10, return_sequences=True)(dropout1)\n",
    "    dropout2 = Dropout(0.5)(gru2)\n",
    "    gru3 = GRU(units=10)(dropout2)\n",
    "    dropout3 = Dropout(0.5)(gru3)\n",
    "\n",
    "    output = Dense(units=1, activation='sigmoid')(dropout3)\n",
    "\n",
    "    gru_model = Model(inputs=input, outputs=output)\n",
    "    print(gru_model.summary())\n",
    "\n",
    "    return gru_model"
   ]
  },
  {
   "cell_type": "code",
   "execution_count": 13,
   "metadata": {},
   "outputs": [
    {
     "name": "stdout",
     "output_type": "stream",
     "text": [
      "Model: \"model\"\n",
      "_________________________________________________________________\n",
      " Layer (type)                Output Shape              Param #   \n",
      "=================================================================\n",
      " input_1 (InputLayer)        [(None, 130)]             0         \n",
      "                                                                 \n",
      " embedding (Embedding)       (None, 130, 32)           2959072   \n",
      "                                                                 \n",
      " lstm (LSTM)                 (None, 130, 20)           4240      \n",
      "                                                                 \n",
      " dropout (Dropout)           (None, 130, 20)           0         \n",
      "                                                                 \n",
      " lstm_1 (LSTM)               (None, 130, 10)           1240      \n",
      "                                                                 \n",
      " dropout_1 (Dropout)         (None, 130, 10)           0         \n",
      "                                                                 \n",
      " lstm_2 (LSTM)               (None, 10)                840       \n",
      "                                                                 \n",
      " dropout_2 (Dropout)         (None, 10)                0         \n",
      "                                                                 \n",
      " dense (Dense)               (None, 1)                 11        \n",
      "                                                                 \n",
      "=================================================================\n",
      "Total params: 2,965,403\n",
      "Trainable params: 2,965,403\n",
      "Non-trainable params: 0\n",
      "_________________________________________________________________\n",
      "None\n"
     ]
    }
   ],
   "source": [
    "EMBED_DIM = 32\n",
    "# RNN_model / LSTM_model / GRU_model\n",
    "model = LSTM_model(EMBED_DIM, total_words)"
   ]
  },
  {
   "cell_type": "code",
   "execution_count": 14,
   "metadata": {},
   "outputs": [],
   "source": [
    "model.compile(optimizer='adam',\n",
    "              loss='binary_crossentropy',\n",
    "              metrics=['accuracy'])"
   ]
  },
  {
   "cell_type": "markdown",
   "metadata": {},
   "source": [
    "<hr>\n",
    "\n",
    "### Training\n",
    "For training, it is simple. We only need to fit our <b>x_train</b> (input) and <b>y_train</b> (output/label) data. For this training, I use a mini-batch learning method with a <b>batch_size</b> of <i>128</i> and <i>5</i> <b>epochs</b>.\n",
    "\n",
    "Also, I added a callback called **checkpoint** to save the model locally for every epoch if its accuracy improved from the previous epoch."
   ]
  },
  {
   "cell_type": "code",
   "execution_count": 15,
   "metadata": {},
   "outputs": [
    {
     "data": {
      "text/plain": [
       "(40000, 130)"
      ]
     },
     "execution_count": 15,
     "metadata": {},
     "output_type": "execute_result"
    }
   ],
   "source": [
    "x_val = x_train[:10000]\n",
    "partial_x_train = x_train[10000:]\n",
    " \n",
    "y_val = y_train[:10000]\n",
    "partial_y_train = y_train[10000:]\n",
    "\n",
    "x_train.shape"
   ]
  },
  {
   "cell_type": "code",
   "execution_count": 16,
   "metadata": {},
   "outputs": [
    {
     "name": "stdout",
     "output_type": "stream",
     "text": [
      "Epoch 1/5\n",
      "118/118 [==============================] - 22s 50ms/step - loss: 0.6685 - accuracy: 0.5586 - val_loss: 0.4372 - val_accuracy: 0.8338\n",
      "Epoch 2/5\n",
      "118/118 [==============================] - 5s 41ms/step - loss: 0.3878 - accuracy: 0.8620 - val_loss: 0.3343 - val_accuracy: 0.8690\n",
      "Epoch 3/5\n",
      "118/118 [==============================] - 5s 42ms/step - loss: 0.2262 - accuracy: 0.9347 - val_loss: 0.3145 - val_accuracy: 0.8661\n",
      "Epoch 4/5\n",
      "118/118 [==============================] - 5s 41ms/step - loss: 0.1403 - accuracy: 0.9671 - val_loss: 0.4144 - val_accuracy: 0.8626\n",
      "Epoch 5/5\n",
      "118/118 [==============================] - 5s 41ms/step - loss: 0.0968 - accuracy: 0.9806 - val_loss: 0.4436 - val_accuracy: 0.8550\n"
     ]
    }
   ],
   "source": [
    "history = model.fit(partial_x_train, partial_y_train, \n",
    "                    batch_size = 256,\n",
    "                    shuffle = True,\n",
    "                    verbose = 1, \n",
    "                    epochs = 5,\n",
    "                    validation_data=(x_val, y_val))"
   ]
  },
  {
   "cell_type": "markdown",
   "metadata": {},
   "source": [
    "<hr>\n",
    "\n",
    "### Testing\n",
    "To evaluate the model, we need to predict the sentiment using our <b>x_test</b> data and comparing the predictions with <b>y_test</b> (expected output) data. Then, we calculate the accuracy of the model by dividing numbers of correct prediction with the total data. Resulted an accuracy of <b>86.63%</b>"
   ]
  },
  {
   "cell_type": "code",
   "execution_count": 17,
   "metadata": {},
   "outputs": [
    {
     "name": "stdout",
     "output_type": "stream",
     "text": [
      "79/79 [==============================] - 1s 16ms/step - loss: 0.4184 - accuracy: 0.8653\n",
      "test loss:  0.42\n",
      "test acc:  86.53 %\n"
     ]
    }
   ],
   "source": [
    "results = model.evaluate(x_test, y_test, batch_size=128)\n",
    "print(\"test loss: \", round(results[0], 2))\n",
    "print(\"test acc: \", round(results[1], 4)*100, '%')"
   ]
  }
 ],
 "metadata": {
  "kernelspec": {
   "display_name": "Python 3",
   "language": "python",
   "name": "python3"
  },
  "language_info": {
   "codemirror_mode": {
    "name": "ipython",
    "version": 3
   },
   "file_extension": ".py",
   "mimetype": "text/x-python",
   "name": "python",
   "nbconvert_exporter": "python",
   "pygments_lexer": "ipython3",
   "version": "3.10.11"
  }
 },
 "nbformat": 4,
 "nbformat_minor": 2
}
